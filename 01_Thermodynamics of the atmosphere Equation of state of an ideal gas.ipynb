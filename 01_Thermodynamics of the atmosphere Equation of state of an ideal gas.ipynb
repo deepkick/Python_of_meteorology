{
 "cells": [
  {
   "cell_type": "markdown",
   "metadata": {},
   "source": [
    "[![Open In Colab](https://colab.research.google.com/assets/colab-badge.svg)](https://colab.research.google.com/github/deepkick/Python_of_meteorology/blob/main/01_Thermodynamics%20of%20the%20atmosphere%20Equation%20of%20state%20of%20an%20ideal%20gas.ipynb)\n",
    "\n",
    "# 大気の熱力学\n",
    "\n",
    "## 01. 理想気体の状態方程式\n",
    "\n",
    "Thermodynamics of the atmosphere Equation of state of an ideal gas\n",
    "\n"
   ]
  },
  {
   "cell_type": "markdown",
   "metadata": {},
   "source": [
    "容積: $V$  \n",
    "質量: $m$  \n",
    "圧力: $p$  \n",
    "温度: $T$  \n",
    "とすると、  \n",
    "\n",
    "\\begin{equation}\n",
    "pV = mRT \\tag{3.1} \n",
    "\\end{equation}\n",
    "\n",
    "という関係があり、これを**理想気体の状態方程式**という。\n",
    "\n",
    "気体の密度 $\\rho$ は $\\rho = \\frac{m}{V}$ で定義されるので、式$(3.1)$ は\n",
    "\n",
    "\\begin{equation}\n",
    "p = \\rho R T \\tag{3.2} \n",
    "\\end{equation}\n",
    "\n",
    "である。また比容 $\\alpha = \\frac{1}{\\rho}$ を使えば、\n",
    "\n",
    "\\begin{equation}\n",
    "p\\alpha = RT \\tag{3.3} \n",
    "\\end{equation}\n",
    "\n",
    "である。\n",
    "\n",
    "分子量: $M$  \n",
    "の気体が $m\\ kg$ 存在するとき、その期待のキロモル数 $n$ は、\n",
    "\n",
    "\\begin{equation}\n",
    "n = \\frac{m}{M} \\tag{3.4} \n",
    "\\end{equation}\n",
    "\n",
    "である。\n",
    "\n",
    "**アボガドロの法則**により、同じ数の分子を含む気体は同じ圧力・同じ温度のもとでは、同じ容積を占める。\n",
    "\n",
    "したがって、1キロモルの気体について、$\\frac{pV}{T}$ という量は、気体の種類に関係なく一定である。\n",
    "\n",
    "\\begin{equation}\n",
    "\\frac{pV}{T} = mR = MR = R^* \\tag{3.5} \n",
    "\\end{equation}\n",
    "\n",
    "温度: $T = 273.15\\ K$  \n",
    "気圧: $p = 1013.25\\ hPa = 1気圧$  \n",
    "のとき、1キロモルの気体の容積は、  \n",
    "容積: $V = 22.4135\\ m^3$  \n",
    "であるから、式$(3.5)$ により、  \n",
    "\n",
    "\\begin{equation}\n",
    "R^* = 8.3143 × 10^3\\ JK^{-1}kmol^{-1}\n",
    "\\end{equation}\n",
    "\n",
    "であり、これを一般気体定数という。\n",
    "\n",
    "混合気体の平均分子量 $\\overline{M}$ 、$1 kg$ の混合気体の気体定数 $\\overline{R}$ を定義すると、\n",
    "\n",
    "\\begin{equation}\n",
    "\\overline{R} = \\frac{R^*}{\\overline{M}} \\tag{3.9} \n",
    "\\end{equation}\n",
    "\n",
    "\\begin{equation}\n",
    "p\\alpha = \\overline{R}T \\tag{3.10} \n",
    "\\end{equation}\n",
    "\n",
    "である。"
   ]
  },
  {
   "cell_type": "markdown",
   "metadata": {},
   "source": [
    "## 1. 地球大気について\n",
    "\n",
    "$Table 1$ \n",
    "\n",
    "地表付近の大気組成（「一般気象学　第２版補訂版」 p13, 表1.4 より）\n",
    "\n",
    "|  成分  |  分子式  |  分子量  |  容積比（存在比率%）  |  重量比（存在比率%）  |\n",
    "| ---- | ---- | ---- | ---- | ---- |\n",
    "|  窒素分子  |  $N_2$  |  $28.01$  |  $78.088$  |  $75.527$  |\n",
    "|  酸素分子  |  $O_2$  |  $32.00$  |  $20.949$  |  $23.413$  |\n",
    "|  アルゴン  |  $Ar$  |  $39.94$  |  $0.93$  |  $1.282$  |\n",
    "|  二酸化炭素  |  $CO_2$  |  $44.01$  |  $0.03$  |  $0.0456$  |\n",
    "|  一酸化炭素  |  $CO$  |  $28.01$  |  $1×10^{-5}$  |  $1×10^{-5}$  |\n",
    "|  ネオン  |  $Ne$  |  $20.18$  |  $1.8×10^{-3}$  |  $1.25×10^{-3}$  |\n",
    "|  ヘリウム  |  $He$  |  $4.00$  |  $5.24×10^{-4}$  |  $7.24×10^{-5}$  |\n",
    "|  メタン  |  $CH_4$  |  $16.05$  |  $1.4×10^{-4}$  |  $7.25×10^{-5}$  |\n",
    "|  クリプトン  |  $Kr$  |  $83.7$  |  $1.14×10^{-4}$  |  $3.30×10^{-4}$  |\n",
    "|  一酸化二窒素  |  $N_2O$  |  $44.02$  |  $5×10^{-5}$  |  $7.6×10^{-5}$  |\n",
    "|  水素分子  |  $H_2$  |  $2.02$  |  $5×10^{-5}$  |  $3.48×10^{-6}$  |\n",
    "|  オゾン  |  $O_3$  |  $48.0$  |  $2×10^{-6}$  |  $3×10^{-6}$D  |\n",
    "|  水蒸気  |  $H_2O$  |  $18.02$  |  不定  |  不定  |"
   ]
  },
  {
   "cell_type": "markdown",
   "metadata": {},
   "source": [
    "### (1) 容積比を使って、乾燥空気の平均分子量$\\ M_d \\ $を算出する。\n",
    "\n",
    "$Table1$ より、大気組成のうち「窒素分子・酸素分子・アルゴン」のみを考慮するものとした。\n",
    "\n",
    "乾燥空気の分子量: $M_d\\ =\\ $(窒素分子量$\\ *\\ $窒素分子の容積比)$\\ +\\ $(酸素分子量$\\ *\\ $酸素分子の容積比)$\\ +\\ $(アルゴン分子量$\\ *\\ $アルゴン分子の容積比)\n"
   ]
  },
  {
   "cell_type": "code",
   "execution_count": 3,
   "metadata": {},
   "outputs": [
    {
     "name": "stdout",
     "output_type": "stream",
     "text": [
      "乾燥空気の平均分子量:  28.947570799999998\n"
     ]
    }
   ],
   "source": [
    "# 窒素分子・酸素分子・アルゴンそれぞれの容積比\n",
    "N_2_v = 78.088 * (10 ** -2)\n",
    "O_2_v = 20.949 * (10 ** -2)\n",
    "Ar_v = 0.93 * (10 ** -2)\n",
    "\n",
    "# 窒素分子・酸素分子・アルゴンそれぞれの分子量\n",
    "N_2_mol_w = 28.01\n",
    "O_2_mol_w = 32.00\n",
    "Ar_mol_w = 39.94\n",
    "\n",
    "M_d = (N_2_mol_w * N_2_v) + (O_2_mol_w * O_2_v) + (Ar_mol_w * Ar_v)\n",
    "# M_d\n",
    "print('乾燥空気の平均分子量: ', M_d)"
   ]
  },
  {
   "cell_type": "markdown",
   "metadata": {},
   "source": [
    "### (2) 重量比を使って、乾燥空気の平均分子量$\\ M_d \\ $を算出する。\n",
    "\n",
    "$Table1$ より、大気組成のうち「窒素分子・酸素分子・アルゴン」のみを考慮するものとした。\n",
    "\n",
    "乾燥空気の分子量: $M_d\\ =\\ $(窒素分子量$\\ *\\ $窒素分子の容積比)$\\ +\\ $(酸素分子量$\\ *\\ $酸素分子の容積比)$\\ +\\ $(アルゴン分子量$\\ *\\ $アルゴン分子の容積比)\n",
    "\n",
    "\\begin{eqnarray}\n",
    "M_d &=& \\frac{1}{\\frac{窒素分子の重量比}{窒素分子量} + \\frac{酸素分子の重量比}{酸素分子量} + \\frac{アルゴン分子の重量比}{アルゴン分子量}} \\nonumber \\\\\n",
    "\\end{eqnarray}\n",
    "\n"
   ]
  },
  {
   "cell_type": "code",
   "execution_count": 4,
   "metadata": {},
   "outputs": [
    {
     "name": "stdout",
     "output_type": "stream",
     "text": [
      "乾燥空気の平均分子量:  28.90019517947606\n"
     ]
    }
   ],
   "source": [
    "# 窒素分子・酸素分子・アルゴンそれぞれの重量比\n",
    "N_2_w = 75.527 * (10 ** -2)\n",
    "O_2_w = 23.413 * (10 ** -2)\n",
    "Ar_w = 1.282 * (10 ** -2)\n",
    "\n",
    "M_d = 1 / ((N_2_w / N_2_mol_w) + (O_2_w / O_2_mol_w) + (Ar_w / Ar_mol_w))\n",
    "# M_d\n",
    "print('乾燥空気の平均分子量: ', M_d)"
   ]
  },
  {
   "cell_type": "markdown",
   "metadata": {},
   "source": [
    "### (3) $\\ 1kg\\ $の乾燥空気に対する気体定数 $\\ R_d \\ $ を算出する。\n",
    "\n",
    "一般気体定数 $R^* = 8.3143 × 10^3\\ JK^{-1}kmol^{-1}$\n",
    "\n",
    "\\begin{eqnarray}\n",
    "R_d &=& \\frac{R^*}{M_d} \\nonumber \\\\\n",
    "&=& \\frac{8.3143 * 10^3}{28.9} \\nonumber \\\\\n",
    "&≒& 287\\ JK^{-1}kg^{-1} \\nonumber \\\\\n",
    "\\end{eqnarray}"
   ]
  },
  {
   "cell_type": "markdown",
   "metadata": {},
   "source": [
    "## 2. 金星大気について\n",
    "\n",
    "金星の大気では、容積比で、$CO_2$ が95%、$N_2$ が5%を占めているとする。$C, O, N$ それぞれの原子量は $12, 16, 14$ とする。\n",
    "\n",
    "$Table 2$ \n",
    "\n",
    "金星の大気組成\n",
    "\n",
    "|  成分  |  分子式  |  分子量  |  容積比（存在比率%）  |\n",
    "| ---- | ---- | ---- | ---- |\n",
    "|  二酸化炭素分子  |  $CO_2$  |  12 + 16 × 2 = 44  |  $95.0$  |\n",
    "|  窒素分子  |  $N_2$  |  14 × 2 = 28  |  $5.0$  |"
   ]
  },
  {
   "cell_type": "markdown",
   "metadata": {},
   "source": [
    "### (1) 金星大気の平均分子量 $M_dv$ を算出する。\n",
    "\n",
    "\\begin{eqnarray}\n",
    "M_dv &=& 44 * 0.95 + 28 * 0.05 \\nonumber \\\\\n",
    "&=& 41.8 + 1.4 \\nonumber \\\\\n",
    "&=& 43.2 \\nonumber \\\\\n",
    "\\end{eqnarray}"
   ]
  },
  {
   "cell_type": "markdown",
   "metadata": {},
   "source": [
    "### (2) 金星大気 $\\ 1kg\\ $の気体定数 $\\ R_dv \\ $ を算出する。\n",
    "\n",
    "\\begin{eqnarray}\n",
    "R_dv &=& \\frac{R^*}{M_dv} \\nonumber \\\\\n",
    "&=& \\frac{8.3143 * 10^3}{43.2} \\nonumber \\\\\n",
    "&=& 192.46\\ JK^{-1}kg^{-1} \\nonumber \\\\\n",
    "\\end{eqnarray}"
   ]
  },
  {
   "cell_type": "markdown",
   "metadata": {},
   "source": [
    "#### 参考文献　\n",
    "* 「一般気象学　第2版補訂版」 小倉義光著"
   ]
  },
  {
   "cell_type": "code",
   "execution_count": null,
   "metadata": {},
   "outputs": [],
   "source": []
  },
  {
   "cell_type": "code",
   "execution_count": null,
   "metadata": {},
   "outputs": [],
   "source": []
  }
 ],
 "metadata": {
  "kernelspec": {
   "display_name": "Python 3",
   "language": "python",
   "name": "python3"
  },
  "language_info": {
   "codemirror_mode": {
    "name": "ipython",
    "version": 3
   },
   "file_extension": ".py",
   "mimetype": "text/x-python",
   "name": "python",
   "nbconvert_exporter": "python",
   "pygments_lexer": "ipython3",
   "version": "3.8.5"
  }
 },
 "nbformat": 4,
 "nbformat_minor": 5
}
