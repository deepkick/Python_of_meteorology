{
 "cells": [
  {
   "cell_type": "markdown",
   "metadata": {},
   "source": [
    "# 気象学における重要な数式のまとめ"
   ]
  },
  {
   "cell_type": "markdown",
   "metadata": {},
   "source": [
    "数式の記号の意味  \n",
    "\n",
    "$\n",
    "    P ...圧力（気圧）\\qquad V ...体積 \\qquad T ...絶対温度 \\qquad \\rho ...空気の密度 \\\\\n",
    "    g ...重力加速度 \\qquad \\theta ...温位 \\qquad \\theta_{e} ...相当温位\n",
    "$"
   ]
  },
  {
   "cell_type": "markdown",
   "metadata": {},
   "source": [
    "## 大気の熱力学に関する数式\n",
    "\n",
    "\n",
    "* 気体の状態方程式\n",
    "\n",
    "\\begin{equation}\n",
    "PV = mRT \\tag{3.1} \n",
    "\\end{equation}\n",
    "\n",
    "（nは物質量mol, Rは気体定数 (gas sonctant)）\n",
    "Rの気体定数は機体の種類によって異なる。乾燥空気では、$287 m^2s^{-2}K^{-1} $である\n",
    "\n",
    "\n",
    "* 気体の密度\n",
    "\n",
    "\\begin{equation}\n",
    "\\rho= \\frac{m}{V}\\\\ \n",
    "\\end{equation}\n",
    "\n",
    "* 比容\n",
    "\n",
    "\\begin{equation}\n",
    "\\alpha = \\frac{1}{\\rho}\\\\ \n",
    "\\end{equation}\n",
    "\n",
    "従って気体の状態方程式は、\n",
    "\\begin{equation}\n",
    "P =  \\rho R T \\tag{3.2} \n",
    "\\end{equation}\n",
    "\n",
    "\\begin{equation}\n",
    "P\\alpha = RT \\tag{3.3} \n",
    "\\end{equation}\n",
    "\n",
    "となる。"
   ]
  },
  {
   "cell_type": "markdown",
   "metadata": {},
   "source": [
    "## 静力学平衡の式\n",
    "\n",
    "\\begin{equation}\n",
    "\\Delta p = - g \\rho \\Delta Z\n",
    "\\end{equation}"
   ]
  },
  {
   "cell_type": "markdown",
   "metadata": {},
   "source": [
    "## 熱力学第一法則の式\n",
    "\n",
    "* Qは熱量、Wは仕事量、Uは内部エネルギー\n",
    "\n",
    "\\begin{equation}\n",
    "Q = W + \\Delta U\n",
    "\\end{equation}"
   ]
  },
  {
   "cell_type": "markdown",
   "metadata": {},
   "source": [
    "## 比熱\n",
    "\n",
    "* 1gの物質の温度を1K上昇させるのに必要な熱量のことを**比熱**といい、Cとする。単位は $\\ JK^{-1}g^{-1}\\ $\n",
    "\n",
    "\n",
    "\\begin{equation}\n",
    "Q = C m \\Delta T\n",
    "\\end{equation}"
   ]
  },
  {
   "cell_type": "markdown",
   "metadata": {},
   "source": [
    "## 定容比熱と定圧比熱\n",
    "\n",
    "* 定積変化の比熱を**定容比熱（定積比熱）**といい、$\\ C_v\\ $という。単位は $\\ JK^{-1}kg^{-1}\\ $\n",
    "* 定圧変化の比熱を**定圧比熱**といい、$\\ C_p\\ $という。単位は $\\ JK^{-1}kg^{-1}\\ $\n",
    "* 乾燥空気の定容比熱$\\ C_v\\ = 717\\ JK^{-1}kg^{-1}\\ $\n",
    "* 乾燥空気の定圧比熱$\\ C_p\\ = 1004\\ JK^{-1}kg^{-1}\\ $\n",
    "\n",
    "\\begin{equation}\n",
    "C_p - C_v = R \\qquad （Rは気体定数）\n",
    "\\end{equation}"
   ]
  },
  {
   "cell_type": "markdown",
   "metadata": {},
   "source": [
    "## 水蒸気量の表現に関する数式\n",
    "\n",
    "* 混合比と水蒸気圧の関係  \n",
    "\n",
    "$W$は混合比、$e$は水蒸気圧\n",
    "\n",
    "\\begin{equation}\n",
    "W \\approx 0.622 \\frac{e}{p}\n",
    "\\end{equation}\n",
    "\n",
    "* 相対湿度の式 $I$\n",
    "\n",
    "\\begin{equation}\n",
    "(相対湿度) = \\frac{空気塊内の水蒸気量}{そのときの温度の飽和水蒸気量} * 100\n",
    "\\end{equation}\n",
    "\n",
    "* 相対湿度の式 $II$\n",
    "\n",
    "\\begin{equation}\n",
    "(相対湿度) = \\frac{空気塊内の水蒸気圧}{そのときの温度の飽和水蒸気圧} * 100\n",
    "\\end{equation}\n",
    "\n",
    "* 混合比\n",
    "\n",
    "\\begin{equation}\n",
    "(混合比) = \\frac{水蒸気の質量}{乾燥空気の質量}\n",
    "\\end{equation}\n",
    "\n",
    "* 比湿\n",
    "\n",
    "\\begin{equation}\n",
    "(比湿) = \\frac{水蒸気の質量}{湿潤空気全体の質量}\n",
    "\\end{equation}"
   ]
  },
  {
   "cell_type": "code",
   "execution_count": null,
   "metadata": {},
   "outputs": [],
   "source": []
  }
 ],
 "metadata": {
  "kernelspec": {
   "display_name": "Python 3",
   "language": "python",
   "name": "python3"
  },
  "language_info": {
   "codemirror_mode": {
    "name": "ipython",
    "version": 3
   },
   "file_extension": ".py",
   "mimetype": "text/x-python",
   "name": "python",
   "nbconvert_exporter": "python",
   "pygments_lexer": "ipython3",
   "version": "3.8.5"
  }
 },
 "nbformat": 4,
 "nbformat_minor": 5
}
